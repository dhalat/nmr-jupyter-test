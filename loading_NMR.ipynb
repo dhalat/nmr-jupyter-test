{
 "cells": [
  {
   "cell_type": "markdown",
   "metadata": {},
   "source": [
    "# Loading and plotting NMR data (Bruker CSV format)\n",
    "## David Halat, May 2020\n",
    "*Note*:  the command **\"convbin2asc\"** must be run in Bruker TopSpin to output a CSV file in the relevant pdata folder. This comprises 4 columns of point number, intensity, shift (Hz), and shift (ppm). \n",
    "Here, the CSV file has then been edited to add the first row of data headers: \"pt,int,hz,ppm\".\n",
    "\n",
    "--"
   ]
  },
  {
   "cell_type": "code",
   "execution_count": 1,
   "metadata": {},
   "outputs": [],
   "source": [
    "# importing packages\n",
    "import numpy as np\n",
    "import pandas as pd\n",
    "import matplotlib\n",
    "import matplotlib.pyplot as plt\n",
    "# magic function\n",
    "%matplotlib inline"
   ]
  },
  {
   "cell_type": "markdown",
   "metadata": {},
   "source": [
    "### Loading data\n",
    "This file is normally called \"ascii_spec\" by TopSpin but has been renamed, and the first row (\"pt,int,hz,ppm\") has been added "
   ]
  },
  {
   "cell_type": "code",
   "execution_count": 2,
   "metadata": {},
   "outputs": [],
   "source": [
    "nmrdata = pd.read_csv('./nmrspec.csv')"
   ]
  },
  {
   "cell_type": "code",
   "execution_count": 3,
   "metadata": {},
   "outputs": [
    {
     "name": "stdout",
     "output_type": "stream",
     "text": [
      "<class 'pandas.core.frame.DataFrame'>\n",
      "RangeIndex: 8192 entries, 0 to 8191\n",
      "Data columns (total 4 columns):\n",
      " #   Column  Non-Null Count  Dtype  \n",
      "---  ------  --------------  -----  \n",
      " 0   pt      8192 non-null   int64  \n",
      " 1   int     8192 non-null   int64  \n",
      " 2   hz      8192 non-null   float64\n",
      " 3   ppm     8192 non-null   float64\n",
      "dtypes: float64(2), int64(2)\n",
      "memory usage: 256.1 KB\n"
     ]
    }
   ],
   "source": [
    "nmrdata.info()"
   ]
  },
  {
   "cell_type": "markdown",
   "metadata": {},
   "source": [
    "### Normalizing spectrum\n",
    "Typically the intensity is a very large integer and we may not need this, so create a new normalized intensity column."
   ]
  },
  {
   "cell_type": "code",
   "execution_count": 4,
   "metadata": {},
   "outputs": [],
   "source": [
    "nmrdata['int_n'] = nmrdata['int'] / nmrdata['int'].max()"
   ]
  },
  {
   "cell_type": "code",
   "execution_count": 5,
   "metadata": {},
   "outputs": [
    {
     "data": {
      "text/html": [
       "<div>\n",
       "<style scoped>\n",
       "    .dataframe tbody tr th:only-of-type {\n",
       "        vertical-align: middle;\n",
       "    }\n",
       "\n",
       "    .dataframe tbody tr th {\n",
       "        vertical-align: top;\n",
       "    }\n",
       "\n",
       "    .dataframe thead th {\n",
       "        text-align: right;\n",
       "    }\n",
       "</style>\n",
       "<table border=\"1\" class=\"dataframe\">\n",
       "  <thead>\n",
       "    <tr style=\"text-align: right;\">\n",
       "      <th></th>\n",
       "      <th>pt</th>\n",
       "      <th>int</th>\n",
       "      <th>hz</th>\n",
       "      <th>ppm</th>\n",
       "      <th>int_n</th>\n",
       "    </tr>\n",
       "  </thead>\n",
       "  <tbody>\n",
       "    <tr>\n",
       "      <th>0</th>\n",
       "      <td>1</td>\n",
       "      <td>2981330</td>\n",
       "      <td>7468.23</td>\n",
       "      <td>98.9169</td>\n",
       "      <td>0.030937</td>\n",
       "    </tr>\n",
       "    <tr>\n",
       "      <th>1</th>\n",
       "      <td>2</td>\n",
       "      <td>3020310</td>\n",
       "      <td>7469.69</td>\n",
       "      <td>98.9363</td>\n",
       "      <td>0.031342</td>\n",
       "    </tr>\n",
       "    <tr>\n",
       "      <th>2</th>\n",
       "      <td>3</td>\n",
       "      <td>3059280</td>\n",
       "      <td>7471.16</td>\n",
       "      <td>98.9558</td>\n",
       "      <td>0.031746</td>\n",
       "    </tr>\n",
       "    <tr>\n",
       "      <th>3</th>\n",
       "      <td>4</td>\n",
       "      <td>3098260</td>\n",
       "      <td>7472.63</td>\n",
       "      <td>98.9752</td>\n",
       "      <td>0.032151</td>\n",
       "    </tr>\n",
       "    <tr>\n",
       "      <th>4</th>\n",
       "      <td>5</td>\n",
       "      <td>3137230</td>\n",
       "      <td>7474.10</td>\n",
       "      <td>98.9947</td>\n",
       "      <td>0.032555</td>\n",
       "    </tr>\n",
       "    <tr>\n",
       "      <th>...</th>\n",
       "      <td>...</td>\n",
       "      <td>...</td>\n",
       "      <td>...</td>\n",
       "      <td>...</td>\n",
       "      <td>...</td>\n",
       "    </tr>\n",
       "    <tr>\n",
       "      <th>8187</th>\n",
       "      <td>8188</td>\n",
       "      <td>4212410</td>\n",
       "      <td>19487.80</td>\n",
       "      <td>258.1170</td>\n",
       "      <td>0.043712</td>\n",
       "    </tr>\n",
       "    <tr>\n",
       "      <th>8188</th>\n",
       "      <td>8189</td>\n",
       "      <td>4203880</td>\n",
       "      <td>19489.30</td>\n",
       "      <td>258.1370</td>\n",
       "      <td>0.043624</td>\n",
       "    </tr>\n",
       "    <tr>\n",
       "      <th>8189</th>\n",
       "      <td>8190</td>\n",
       "      <td>4195350</td>\n",
       "      <td>19490.80</td>\n",
       "      <td>258.1560</td>\n",
       "      <td>0.043535</td>\n",
       "    </tr>\n",
       "    <tr>\n",
       "      <th>8190</th>\n",
       "      <td>8191</td>\n",
       "      <td>4186830</td>\n",
       "      <td>19492.30</td>\n",
       "      <td>258.1760</td>\n",
       "      <td>0.043447</td>\n",
       "    </tr>\n",
       "    <tr>\n",
       "      <th>8191</th>\n",
       "      <td>8192</td>\n",
       "      <td>4178300</td>\n",
       "      <td>19493.70</td>\n",
       "      <td>258.1950</td>\n",
       "      <td>0.043358</td>\n",
       "    </tr>\n",
       "  </tbody>\n",
       "</table>\n",
       "<p>8192 rows × 5 columns</p>\n",
       "</div>"
      ],
      "text/plain": [
       "        pt      int        hz       ppm     int_n\n",
       "0        1  2981330   7468.23   98.9169  0.030937\n",
       "1        2  3020310   7469.69   98.9363  0.031342\n",
       "2        3  3059280   7471.16   98.9558  0.031746\n",
       "3        4  3098260   7472.63   98.9752  0.032151\n",
       "4        5  3137230   7474.10   98.9947  0.032555\n",
       "...    ...      ...       ...       ...       ...\n",
       "8187  8188  4212410  19487.80  258.1170  0.043712\n",
       "8188  8189  4203880  19489.30  258.1370  0.043624\n",
       "8189  8190  4195350  19490.80  258.1560  0.043535\n",
       "8190  8191  4186830  19492.30  258.1760  0.043447\n",
       "8191  8192  4178300  19493.70  258.1950  0.043358\n",
       "\n",
       "[8192 rows x 5 columns]"
      ]
     },
     "execution_count": 5,
     "metadata": {},
     "output_type": "execute_result"
    }
   ],
   "source": [
    "nmrdata # just to check our new column"
   ]
  },
  {
   "cell_type": "markdown",
   "metadata": {},
   "source": [
    "### Selecting spectral range\n",
    "We focus only on the region between 135 and 240 ppm using boolean indexing on the \"ppm\" column.\n"
   ]
  },
  {
   "cell_type": "code",
   "execution_count": 6,
   "metadata": {},
   "outputs": [],
   "source": [
    "nmrdata_part = nmrdata[(nmrdata['ppm'] > 135) & (nmrdata['ppm'] < 240) ]"
   ]
  },
  {
   "cell_type": "code",
   "execution_count": 7,
   "metadata": {},
   "outputs": [
    {
     "data": {
      "text/html": [
       "<div>\n",
       "<style scoped>\n",
       "    .dataframe tbody tr th:only-of-type {\n",
       "        vertical-align: middle;\n",
       "    }\n",
       "\n",
       "    .dataframe tbody tr th {\n",
       "        vertical-align: top;\n",
       "    }\n",
       "\n",
       "    .dataframe thead th {\n",
       "        text-align: right;\n",
       "    }\n",
       "</style>\n",
       "<table border=\"1\" class=\"dataframe\">\n",
       "  <thead>\n",
       "    <tr style=\"text-align: right;\">\n",
       "      <th></th>\n",
       "      <th>pt</th>\n",
       "      <th>int</th>\n",
       "      <th>hz</th>\n",
       "      <th>ppm</th>\n",
       "      <th>int_n</th>\n",
       "    </tr>\n",
       "  </thead>\n",
       "  <tbody>\n",
       "    <tr>\n",
       "      <th>1856</th>\n",
       "      <td>1857</td>\n",
       "      <td>5996650</td>\n",
       "      <td>10193.1</td>\n",
       "      <td>135.008</td>\n",
       "      <td>0.062227</td>\n",
       "    </tr>\n",
       "    <tr>\n",
       "      <th>1857</th>\n",
       "      <td>1858</td>\n",
       "      <td>6003380</td>\n",
       "      <td>10194.6</td>\n",
       "      <td>135.027</td>\n",
       "      <td>0.062297</td>\n",
       "    </tr>\n",
       "    <tr>\n",
       "      <th>1858</th>\n",
       "      <td>1859</td>\n",
       "      <td>6010100</td>\n",
       "      <td>10196.0</td>\n",
       "      <td>135.047</td>\n",
       "      <td>0.062367</td>\n",
       "    </tr>\n",
       "    <tr>\n",
       "      <th>1859</th>\n",
       "      <td>1860</td>\n",
       "      <td>6016830</td>\n",
       "      <td>10197.5</td>\n",
       "      <td>135.066</td>\n",
       "      <td>0.062437</td>\n",
       "    </tr>\n",
       "    <tr>\n",
       "      <th>1860</th>\n",
       "      <td>1861</td>\n",
       "      <td>6023560</td>\n",
       "      <td>10199.0</td>\n",
       "      <td>135.086</td>\n",
       "      <td>0.062507</td>\n",
       "    </tr>\n",
       "    <tr>\n",
       "      <th>...</th>\n",
       "      <td>...</td>\n",
       "      <td>...</td>\n",
       "      <td>...</td>\n",
       "      <td>...</td>\n",
       "      <td>...</td>\n",
       "    </tr>\n",
       "    <tr>\n",
       "      <th>7251</th>\n",
       "      <td>7252</td>\n",
       "      <td>5087510</td>\n",
       "      <td>18113.7</td>\n",
       "      <td>239.916</td>\n",
       "      <td>0.052793</td>\n",
       "    </tr>\n",
       "    <tr>\n",
       "      <th>7252</th>\n",
       "      <td>7253</td>\n",
       "      <td>5085960</td>\n",
       "      <td>18115.1</td>\n",
       "      <td>239.936</td>\n",
       "      <td>0.052777</td>\n",
       "    </tr>\n",
       "    <tr>\n",
       "      <th>7253</th>\n",
       "      <td>7254</td>\n",
       "      <td>5084410</td>\n",
       "      <td>18116.6</td>\n",
       "      <td>239.955</td>\n",
       "      <td>0.052761</td>\n",
       "    </tr>\n",
       "    <tr>\n",
       "      <th>7254</th>\n",
       "      <td>7255</td>\n",
       "      <td>5082870</td>\n",
       "      <td>18118.1</td>\n",
       "      <td>239.975</td>\n",
       "      <td>0.052745</td>\n",
       "    </tr>\n",
       "    <tr>\n",
       "      <th>7255</th>\n",
       "      <td>7256</td>\n",
       "      <td>5081320</td>\n",
       "      <td>18119.5</td>\n",
       "      <td>239.994</td>\n",
       "      <td>0.052729</td>\n",
       "    </tr>\n",
       "  </tbody>\n",
       "</table>\n",
       "<p>5400 rows × 5 columns</p>\n",
       "</div>"
      ],
      "text/plain": [
       "        pt      int       hz      ppm     int_n\n",
       "1856  1857  5996650  10193.1  135.008  0.062227\n",
       "1857  1858  6003380  10194.6  135.027  0.062297\n",
       "1858  1859  6010100  10196.0  135.047  0.062367\n",
       "1859  1860  6016830  10197.5  135.066  0.062437\n",
       "1860  1861  6023560  10199.0  135.086  0.062507\n",
       "...    ...      ...      ...      ...       ...\n",
       "7251  7252  5087510  18113.7  239.916  0.052793\n",
       "7252  7253  5085960  18115.1  239.936  0.052777\n",
       "7253  7254  5084410  18116.6  239.955  0.052761\n",
       "7254  7255  5082870  18118.1  239.975  0.052745\n",
       "7255  7256  5081320  18119.5  239.994  0.052729\n",
       "\n",
       "[5400 rows x 5 columns]"
      ]
     },
     "execution_count": 7,
     "metadata": {},
     "output_type": "execute_result"
    }
   ],
   "source": [
    "nmrdata_part"
   ]
  },
  {
   "cell_type": "markdown",
   "metadata": {},
   "source": [
    "### Plotting selected spectral range\n",
    "To accord with convention, we also need to remember to reverse the ppm axis, which is easily accomplished with the gca().invert_xaxis() function."
   ]
  },
  {
   "cell_type": "code",
   "execution_count": 8,
   "metadata": {},
   "outputs": [
    {
     "data": {
      "image/png": "[encoded data removed]",
      "text/plain": [
       "<Figure size 432x288 with 1 Axes>"
      ]
     },
     "metadata": {
      "needs_background": "light"
     },
     "output_type": "display_data"
    }
   ],
   "source": [
    "plt.plot(nmrdata_part['ppm'],nmrdata_part['int_n'])\n",
    "plt.xlabel('ppm')\n",
    "plt.ylabel('int, norm.')\n",
    "plt.title('Solid-state $^{13}$C NMR spectrum')\n",
    "plt.gca().invert_xaxis()"
   ]
  },
  {
   "cell_type": "markdown",
   "metadata": {},
   "source": [
    "### Miscellaneous selection/plotting tasks\n",
    "Perhaps we only want to look at intense features. We select only those data points with normalized intensity > 0.15."
   ]
  },
  {
   "cell_type": "code",
   "execution_count": 9,
   "metadata": {},
   "outputs": [],
   "source": [
    "nmrdata_part2 = nmrdata_part[nmrdata_part['int_n'] > 0.15]"
   ]
  },
  {
   "cell_type": "code",
   "execution_count": 10,
   "metadata": {},
   "outputs": [
    {
     "data": {
      "image/png": "[encoded data removed]",
      "text/plain": [
       "<Figure size 432x288 with 1 Axes>"
      ]
     },
     "metadata": {
      "needs_background": "light"
     },
     "output_type": "display_data"
    }
   ],
   "source": [
    "plt.scatter(nmrdata_part2['ppm'],nmrdata_part2['int_n'],marker='.')\n",
    "plt.xlabel('ppm')\n",
    "plt.ylabel('int, norm.')\n",
    "plt.title('Solid-state $^{13}$C NMR spectrum')\n",
    "plt.gca().invert_xaxis()"
   ]
  }
 ],
 "metadata": {
  "kernelspec": {
   "display_name": "Python [conda env:che609] *",
   "language": "python",
   "name": "conda-env-che609-py"
  },
  "language_info": {
   "codemirror_mode": {
    "name": "ipython",
    "version": 3
   },
   "file_extension": ".py",
   "mimetype": "text/x-python",
   "name": "python",
   "nbconvert_exporter": "python",
   "pygments_lexer": "ipython3",
   "version": "3.8.2"
  }
 },
 "nbformat": 4,
 "nbformat_minor": 4
}
